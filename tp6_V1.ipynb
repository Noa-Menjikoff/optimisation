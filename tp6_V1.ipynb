{
 "cells": [
  {
   "cell_type": "code",
   "execution_count": 72,
   "metadata": {},
   "outputs": [],
   "source": [
    "import numpy as np\n",
    "import torch\n",
    "import pandas as pd"
   ]
  },
  {
   "cell_type": "code",
   "execution_count": 73,
   "metadata": {},
   "outputs": [],
   "source": [
    "from utils import load_data2, encode_attributs_category, convert_to_tensor, pre_processing"
   ]
  },
  {
   "cell_type": "code",
   "execution_count": 74,
   "metadata": {},
   "outputs": [],
   "source": [
    "train_data, test_data = load_data2()\n",
    "\n",
    "X_train, y_train, X_test, y_test = pre_processing(train_data,test_data)\n",
    "X_train, y_train, X_test, y_test = encode_attributs_category(X_train, y_train, X_test, y_test)\n",
    "X_train_tensor, y_train_tensor, X_test_tensor, y_test_tensor = convert_to_tensor(X_train, y_train, X_test, y_test)"
   ]
  },
  {
   "cell_type": "code",
   "execution_count": 75,
   "metadata": {},
   "outputs": [
    {
     "data": {
      "text/plain": [
       "(21115, 13)"
      ]
     },
     "execution_count": 75,
     "metadata": {},
     "output_type": "execute_result"
    }
   ],
   "source": [
    "X_train.shape"
   ]
  },
  {
   "cell_type": "code",
   "execution_count": 76,
   "metadata": {},
   "outputs": [],
   "source": [
    "model = torch.nn.Sequential(\n",
    "    torch.nn.Linear(13, 5, bias=False),\n",
    "    torch.nn.ReLU(),\n",
    "    torch.nn.Linear(5, 2, bias=False)\n",
    ")\n",
    "\n"
   ]
  },
  {
   "cell_type": "code",
   "execution_count": 77,
   "metadata": {},
   "outputs": [],
   "source": [
    "loss_fn = torch.nn.CrossEntropyLoss()\n",
    "\n",
    "optimizer = torch.optim.SGD(model.parameters(), lr=0.0001)"
   ]
  },
  {
   "cell_type": "code",
   "execution_count": 78,
   "metadata": {},
   "outputs": [
    {
     "name": "stdout",
     "output_type": "stream",
     "text": [
      "0 tensor(13676.2803, grad_fn=<DivBackward1>)\n",
      "1 tensor(2604498.7500, grad_fn=<DivBackward1>)\n",
      "2 tensor(9887519., grad_fn=<DivBackward1>)\n",
      "3 tensor(0.6931, grad_fn=<DivBackward1>)\n",
      "4 tensor(0.6931, grad_fn=<DivBackward1>)\n",
      "5 tensor(0.6931, grad_fn=<DivBackward1>)\n",
      "6 tensor(0.6931, grad_fn=<DivBackward1>)\n",
      "7 tensor(0.6931, grad_fn=<DivBackward1>)\n",
      "8 tensor(0.6931, grad_fn=<DivBackward1>)\n",
      "9 tensor(0.6931, grad_fn=<DivBackward1>)\n"
     ]
    }
   ],
   "source": [
    "for t in range(10):\n",
    "    optimizer.zero_grad()\n",
    "\n",
    "    y_pred = model(X_train_tensor)\n",
    "    erreur = loss_fn(y_pred, y_train_tensor)\n",
    "\n",
    "    erreur.backward()\n",
    "    print(t, erreur)\n",
    "\n",
    "    optimizer.step()"
   ]
  },
  {
   "cell_type": "code",
   "execution_count": null,
   "metadata": {},
   "outputs": [],
   "source": []
  },
  {
   "cell_type": "code",
   "execution_count": null,
   "metadata": {},
   "outputs": [],
   "source": []
  }
 ],
 "metadata": {
  "kernelspec": {
   "display_name": "env",
   "language": "python",
   "name": "python3"
  },
  "language_info": {
   "codemirror_mode": {
    "name": "ipython",
    "version": 3
   },
   "file_extension": ".py",
   "mimetype": "text/x-python",
   "name": "python",
   "nbconvert_exporter": "python",
   "pygments_lexer": "ipython3",
   "version": "3.12.3"
  }
 },
 "nbformat": 4,
 "nbformat_minor": 2
}
